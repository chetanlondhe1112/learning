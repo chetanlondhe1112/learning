{
 "cells": [
  {
   "cell_type": "markdown",
   "metadata": {},
   "source": [
    "# **Python Fundamentals**"
   ]
  },
  {
   "cell_type": "markdown",
   "metadata": {},
   "source": [
    "###### 1.syntax and Structure\n",
    "###### 2.Variables and Data Types\n",
    "###### 3.Basic Operators (Arithmetic, Comparison, Logical, etc.)\n",
    "###### 4.Conditional Statements (if, else, elif)\n",
    "###### 5.Loops (for, while)\n",
    "###### 6.Functions and Modules"
   ]
  },
  {
   "cell_type": "markdown",
   "metadata": {},
   "source": [
    "### 2.Variables and Datatypes"
   ]
  },
  {
   "cell_type": "markdown",
   "metadata": {},
   "source": []
  }
 ],
 "metadata": {
  "language_info": {
   "name": "python"
  }
 },
 "nbformat": 4,
 "nbformat_minor": 2
}
