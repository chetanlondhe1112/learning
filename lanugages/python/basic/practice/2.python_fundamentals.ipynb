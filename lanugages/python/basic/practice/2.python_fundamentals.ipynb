{
 "cells": [
  {
   "cell_type": "markdown",
   "metadata": {},
   "source": [
    "# **Python Fundamentals**"
   ]
  },
  {
   "cell_type": "markdown",
   "metadata": {},
   "source": [
    "###### 1.syntax and Structure\n",
    "###### 2.Variables and Data Types\n",
    "###### 3.Basic Operators (Arithmetic, Comparison, Logical, etc.)\n",
    "###### 4.Conditional Statements (if, else, elif)\n",
    "###### 5.Loops (for, while)\n",
    "###### 6.Functions and Modules"
   ]
  },
  {
   "cell_type": "markdown",
   "metadata": {},
   "source": [
    "### 2.Variables and Datatypes"
   ]
  },
  {
   "cell_type": "markdown",
   "metadata": {},
   "source": []
  },
  {
   "cell_type": "markdown",
   "metadata": {},
   "source": [
    "### 6.Functions and Modules"
   ]
  },
  {
   "cell_type": "code",
   "execution_count": 1,
   "metadata": {},
   "outputs": [],
   "source": [
    "def hello(name:str)->str:\n",
    "    return \"hello\"+str(name)"
   ]
  },
  {
   "cell_type": "code",
   "execution_count": 2,
   "metadata": {},
   "outputs": [
    {
     "data": {
      "text/plain": [
       "'hellochetan'"
      ]
     },
     "execution_count": 2,
     "metadata": {},
     "output_type": "execute_result"
    }
   ],
   "source": [
    "hello(name='chetan')"
   ]
  },
  {
   "cell_type": "markdown",
   "metadata": {},
   "source": [
    "##### 1. Postional Arguments"
   ]
  },
  {
   "cell_type": "code",
   "execution_count": 8,
   "metadata": {},
   "outputs": [],
   "source": [
    "def calc(a:int,b:int)->int:\n",
    "    return a+b"
   ]
  },
  {
   "cell_type": "code",
   "execution_count": 9,
   "metadata": {},
   "outputs": [
    {
     "data": {
      "text/plain": [
       "10"
      ]
     },
     "execution_count": 9,
     "metadata": {},
     "output_type": "execute_result"
    }
   ],
   "source": [
    "calc(a=4,b=6)"
   ]
  },
  {
   "cell_type": "markdown",
   "metadata": {},
   "source": [
    "##### 2.Keyword Arguments"
   ]
  },
  {
   "cell_type": "code",
   "execution_count": 22,
   "metadata": {},
   "outputs": [],
   "source": [
    "def greet(name:str,message:str='hey')->str:\n",
    "    return message+' '+name"
   ]
  },
  {
   "cell_type": "code",
   "execution_count": 23,
   "metadata": {},
   "outputs": [
    {
     "data": {
      "text/plain": [
       "'hey chetan'"
      ]
     },
     "execution_count": 23,
     "metadata": {},
     "output_type": "execute_result"
    }
   ],
   "source": [
    "greet(name='chetan')"
   ]
  },
  {
   "cell_type": "markdown",
   "metadata": {},
   "source": [
    "##### 3.Variable Length arguments"
   ]
  },
  {
   "cell_type": "markdown",
   "metadata": {},
   "source": [
    "Example 1: Combining Positional and Keyword Arguments\n",
    "Define a function that can accept any number of positional and keyword arguments and process them."
   ]
  },
  {
   "cell_type": "code",
   "execution_count": 43,
   "metadata": {},
   "outputs": [],
   "source": [
    "def combo(*args)->None:\n",
    "    for i in args:\n",
    "        print(i,type(i))\n",
    "    return None"
   ]
  },
  {
   "cell_type": "code",
   "execution_count": 41,
   "metadata": {},
   "outputs": [
    {
     "name": "stdout",
     "output_type": "stream",
     "text": [
      "1 <class 'int'>\n",
      "2 <class 'int'>\n",
      "3 <class 'int'>\n",
      "4 <class 'int'>\n",
      "5 <class 'int'>\n",
      "6 <class 'int'>\n",
      "sdvvfsdfv <class 'str'>\n",
      "[1, 2, 3] <class 'list'>\n",
      "{'sdvsd': 233, 'sdff': 4545} <class 'dict'>\n"
     ]
    }
   ],
   "source": [
    "combo(1,2,3,4,5,6,'sdvvfsdfv',[1,2,3],{'sdvsd':233,'sdff':4545})"
   ]
  },
  {
   "cell_type": "code",
   "execution_count": 59,
   "metadata": {},
   "outputs": [],
   "source": [
    "def dictvar(**kwargs)->None:\n",
    "    di={}\n",
    "    for key,value in kwargs.items():\n",
    "        print(value)\n",
    "        di.update(value)\n",
    "    print(di)\n",
    "    return None"
   ]
  },
  {
   "cell_type": "code",
   "execution_count": 60,
   "metadata": {},
   "outputs": [
    {
     "name": "stdout",
     "output_type": "stream",
     "text": [
      "{'ft': 234, 'rthy': 456}\n",
      "{'sd': 425}\n",
      "{'ft': 234, 'rthy': 456, 'sd': 425}\n"
     ]
    }
   ],
   "source": [
    "dictvar(kwargs={'ft':234,'rthy':456},d={'sd':425})"
   ]
  },
  {
   "cell_type": "markdown",
   "metadata": {},
   "source": [
    "Define a function calculate_statistics that takes any number of numerical arguments and returns the sum, mean, and standard deviation of the given numbers."
   ]
  },
  {
   "cell_type": "code",
   "execution_count": 68,
   "metadata": {},
   "outputs": [],
   "source": [
    "import numpy as np\n",
    "def calculate_statistics(*args:int)->dict:\n",
    "    arr=np.array(list(args))\n",
    "    return int(np.sum(arr)),float(np.mean(arr)),float(np.std(arr))"
   ]
  },
  {
   "cell_type": "code",
   "execution_count": 69,
   "metadata": {},
   "outputs": [
    {
     "data": {
      "text/plain": [
       "(28, 4.0, 2.0)"
      ]
     },
     "execution_count": 69,
     "metadata": {},
     "output_type": "execute_result"
    }
   ],
   "source": [
    "calculate_statistics(1,2,3,4,5,6,7)"
   ]
  },
  {
   "cell_type": "markdown",
   "metadata": {},
   "source": [
    "Write a function flatten_list that accepts a variable number of lists as arguments and returns a single flattened list containing all elements."
   ]
  },
  {
   "cell_type": "code",
   "execution_count": 77,
   "metadata": {},
   "outputs": [],
   "source": [
    "from typing import List\n",
    "def list_combo(*args:List)->List:\n",
    "    l=[]\n",
    "    for i in args:\n",
    "        l.extend(i)\n",
    "    return l"
   ]
  },
  {
   "cell_type": "code",
   "execution_count": 78,
   "metadata": {},
   "outputs": [
    {
     "data": {
      "text/plain": [
       "[1, 3, 2, 4, 3, 5, 6, 3, 3]"
      ]
     },
     "execution_count": 78,
     "metadata": {},
     "output_type": "execute_result"
    }
   ],
   "source": [
    "list_combo([1,3,2,4],[3,5,6,3,3])"
   ]
  },
  {
   "cell_type": "markdown",
   "metadata": {},
   "source": [
    "Implement a function find_max_value that accepts any number of dictionaries with numerical values and returns the maximum value across all dictionaries."
   ]
  },
  {
   "cell_type": "code",
   "execution_count": null,
   "metadata": {},
   "outputs": [],
   "source": [
    "import numpy as np\n",
    "def dic_combo(**args:dict)->dict:\n",
    "    max_dict={}\n",
    "    for key,value in args.items():\n",
    "        max = np.max(np.array(value['values']))\n",
    "        max_dict[key]=float(max)\n",
    "    return max_dict"
   ]
  },
  {
   "cell_type": "code",
   "execution_count": 84,
   "metadata": {},
   "outputs": [
    {
     "data": {
      "text/plain": [
       "{'d1': 567.0, 'd2': 56.0, 'd3': 988.0}"
      ]
     },
     "execution_count": 84,
     "metadata": {},
     "output_type": "execute_result"
    }
   ],
   "source": [
    "dic_combo(d1={'values':[1,4,23,45,567,2,34]},\n",
    "          d2={'values':[3,45,6,8,4,1,56,8,3,12]},\n",
    "          d3={'values':[33,55,22,5,7,988,75]})"
   ]
  },
  {
   "cell_type": "markdown",
   "metadata": {},
   "source": [
    "### 7.Iterator and Generator"
   ]
  },
  {
   "cell_type": "code",
   "execution_count": null,
   "metadata": {},
   "outputs": [],
   "source": []
  },
  {
   "cell_type": "markdown",
   "metadata": {},
   "source": [
    "### 8.Decorators"
   ]
  },
  {
   "cell_type": "markdown",
   "metadata": {},
   "source": [
    "**Definition :** Decorators are simple functions wraps another function to modify the behaviour without changing functios its code\n",
    "\n",
    "#### **Function Based Decorator**\n",
    "**Example (without decorator syntax):**\n",
    "\n",
    "*Code*\n",
    "\n",
    "    def my_decorator(func):\n",
    "        def wrapper():\n",
    "            print(\"Before function call\")\n",
    "            func()\n",
    "            print(\"After function call\")\n",
    "        return wrapper\n",
    "\n",
    "    def hello():\n",
    "        print(\"Hello, World!\")\n",
    "\n",
    "    # Manually decorating\n",
    "    hello = my_decorator(hello)\n",
    "    hello()\n",
    "\n",
    "*Output*\n",
    "\n",
    "    Before function call\n",
    "    Hello, World!\n",
    "    After function call\n",
    "\n",
    "**Example (with decorator syntax):**\n",
    "\n",
    "*Code*\n",
    "\n",
    "    def my_decorator(func):\n",
    "        def wrapper():\n",
    "            print(\"Before function call\")\n",
    "            func()\n",
    "            print(\"After function call\")\n",
    "        return wrapper\n",
    "\n",
    "    @my_decorator  # Equivalent to: hello = my_decorator(hello)\n",
    "    def hello():\n",
    "        print(\"Hello, World!\")\n",
    "\n",
    "    hello()\n",
    "\n",
    "*Output*\n",
    "\n",
    "    Before function call\n",
    "    Hello, World!\n",
    "    After function call\n",
    "\n",
    "#### **Class-Based Decorators**\n",
    "Instead of a function, you can use a class to create a decorator.\n",
    "📌 Use Case: Useful when maintaining state between calls.\n",
    "\n",
    "*Code*\n",
    "\n",
    "    class MyDecorator:\n",
    "        def __init__(self, func):\n",
    "            self.func = func\n",
    "\n",
    "        def __call__(self, *args, **kwargs):\n",
    "            print(\"Before function call\")\n",
    "            result = self.func(*args, **kwargs)\n",
    "            print(\"After function call\")\n",
    "            return result\n",
    "\n",
    "    @MyDecorator\n",
    "    def say_hello():\n",
    "        print(\"Hello, World!\")\n",
    "\n",
    "    say_hello()\n",
    "\n",
    "*Output*\n",
    "\n"
   ]
  },
  {
   "cell_type": "code",
   "execution_count": 15,
   "metadata": {},
   "outputs": [
    {
     "name": "stdout",
     "output_type": "stream",
     "text": [
      "Calling db_execute at 2025-02-20 01:38:27.181660\n",
      "Inserted\n",
      "Execution Time : 0:00:02.001344\n",
      "True\n"
     ]
    }
   ],
   "source": [
    "# Example to print current time\n",
    "import datetime as dt\n",
    "import time as tm\n",
    "\n",
    "def timer(func):\n",
    "    def wrapper():\n",
    "        time = dt.datetime.now()\n",
    "        print(f\"Calling {func.__name__} at {time}\")\n",
    "        result = func()\n",
    "        tm.sleep(2)\n",
    "        print(f\"Execution Time : {dt.datetime.now()-time}\")\n",
    "        return result\n",
    "    return wrapper\n",
    "\n",
    "@timer\n",
    "def db_execute():\n",
    "    print(\"Inserted\")\n",
    "    return True\n",
    "\n",
    "x = db_execute()\n",
    "print(x)"
   ]
  },
  {
   "cell_type": "code",
   "execution_count": null,
   "metadata": {},
   "outputs": [
    {
     "name": "stdout",
     "output_type": "stream",
     "text": [
      "Calling the db_execute at 2025-02-20 02:08:40.901229\n",
      "Inserted\n",
      "Execution Time : 0:00:02.001249\n",
      "True\n"
     ]
    }
   ],
   "source": [
    "# using class base approach\n",
    "import datetime as dt\n",
    "import time \n",
    "\n",
    "class Timer:\n",
    "    sleep_value = 2\n",
    "    \n",
    "    def __init__(self,func):\n",
    "        self.func = func\n",
    "    \n",
    "    @staticmethod\n",
    "    def get_time():\n",
    "        return dt.datetime.now()\n",
    "        \n",
    "    def __call__(self, *args, **kwds):\n",
    "        start = self.get_time()\n",
    "        print(f\"Calling the {self.func.__name__} at {start}\")\n",
    "        result = self.func()\n",
    "        time.sleep(2)\n",
    "        end = self.get_time()\n",
    "        print(f\"Execution Time : {end-start}\")\n",
    "        return result\n",
    "    \n",
    "@Timer\n",
    "def db_execute():\n",
    "    print(\"Inserted\")\n",
    "    return True\n",
    "\n",
    "x = db_execute()\n",
    "print(x)"
   ]
  }
 ],
 "metadata": {
  "kernelspec": {
   "display_name": "env",
   "language": "python",
   "name": "python3"
  },
  "language_info": {
   "codemirror_mode": {
    "name": "ipython",
    "version": 3
   },
   "file_extension": ".py",
   "mimetype": "text/x-python",
   "name": "python",
   "nbconvert_exporter": "python",
   "pygments_lexer": "ipython3",
   "version": "3.12.3"
  }
 },
 "nbformat": 4,
 "nbformat_minor": 2
}
