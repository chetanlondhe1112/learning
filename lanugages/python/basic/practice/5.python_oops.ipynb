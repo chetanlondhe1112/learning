{
 "cells": [
  {
   "cell_type": "markdown",
   "metadata": {},
   "source": [
    "# OOPS : Object Oriented Programming"
   ]
  },
  {
   "cell_type": "markdown",
   "metadata": {},
   "source": [
    "Here’s a deep yet concise list of OOPs concepts with their importance, designed to help you in an interview:\n",
    "\n",
    "🔥 Core OOP Concepts with Importance\n",
    "\n",
    "## 1️⃣ Encapsulation (Data Hiding & Security)\n",
    "**Definition :** Bundling data (variables) and methods that operate on that data into a single unit (class) and restricting direct access to some components.\n",
    "\n",
    "**Importance :**\n",
    "✅ Prevents direct modification of sensitive data (uses private/protected variables).\n",
    "✅ Allows controlled access via getter and setter methods.\n",
    "✅ Improves maintainability and prevents unintended side effects.\n",
    "\n",
    "## 2️⃣ Inheritance (Code Reusability & Hierarchy)\n",
    "**Definition:** A mechanism where a new class (child) derives properties and behaviors from an existing class (parent).\n",
    "\n",
    "\n",
    "**Importance:**\n",
    "✅ Avoids code duplication by reusing existing logic.\n",
    "✅ Establishes a relationship between classes for modular design.\n",
    "✅ Supports hierarchical structuring, making the system scalable.\n",
    "\n",
    "## 3️⃣ Polymorphism (Flexibility & Code Maintainability)\n",
    "**Definition:** The ability of different classes to define methods with the same name but different behaviors.\n",
    "\n",
    "**Types:**\n",
    "Method Overloading (Compile-Time Polymorphism): Multiple methods with the same name but different parameters in the same class.\n",
    "Method Overriding (Run-Time Polymorphism): Subclass modifies the behavior of a parent class method.\n",
    "\n",
    "**Importance:**\n",
    "✅ Increases flexibility by allowing the same interface to be used for different types.\n",
    "✅ Improves readability and reduces redundant code.\n",
    "✅ Makes applications extensible, as new behaviors can be added without modifying existing code.\n",
    "\n",
    "## 4️⃣ Abstraction (Hiding Complexity & Focusing on Essentials)\n",
    "**Definition:** Hiding implementation details from users and exposing only essential functionalities.\n",
    "Implementation: Achieved using abstract classes and interfaces.\n",
    "\n",
    "**Importance:**\n",
    "✅ Reduces complexity by hiding internal workings (e.g., how a car engine works).\n",
    "✅ Provides a clean and clear interface for users.\n",
    "✅ Enhances security by exposing only necessary data and logic.\n",
    "🔥 Advanced OOP Concepts for Interviews\n",
    "\n",
    "## 5️⃣ Composition (Alternative to Inheritance)\n",
    "**Definition:** Instead of inheriting, a class contains an instance of another class to reuse functionality.\n",
    "\n",
    "**Importance:**\n",
    "✅ Avoids deep inheritance trees, improving modularity.\n",
    "✅ Offers better code maintainability and reusability.\n",
    "6️⃣ Association, Aggregation & Composition (Relationships Between Classes)\n",
    "Association: A general relationship between two classes (e.g., Student–Teacher).\n",
    "Aggregation: A weak relationship where an object can exist independently (e.g., Department–Professor).\n",
    "Composition: A strong relationship where an object cannot exist independently (e.g., Car–Engine).\n",
    "Importance: Helps in designing real-world systems with proper object relationships.\n",
    "\n",
    "## 7️⃣ SOLID Principles (For Writing Maintainable OOP Code)\n",
    "S: Single Responsibility Principle → Each class should have one reason to change.\n",
    "O: Open-Closed Principle → Classes should be open for extension, but closed for modification.\n",
    "L: Liskov Substitution Principle → Subclasses should be replaceable for parent class without issues.\n",
    "I: Interface Segregation Principle → Avoid forcing a class to implement unnecessary methods.\n",
    "D: Dependency Inversion Principle → Depend on abstractions, not concrete implementations.\n",
    "\n",
    "**Importance:** Helps in designing scalable, reusable, and flexible systems.\n",
    "\n",
    "\n",
    "**🏆 Final Takeaway (Interview Ready)**\n",
    "Encapsulation → Protects data.\n",
    "Inheritance → Reuses code.\n",
    "Polymorphism → Increases flexibility.\n",
    "Abstraction → Hides complexity.\n",
    "Composition → Provides modular design.\n",
    "SOLID principles → Ensures scalable architecture.\n"
   ]
  },
  {
   "cell_type": "markdown",
   "metadata": {},
   "source": [
    "## 1.Encapsulation\n",
    "Combining Attributes, Methods and Hiding private data from user."
   ]
  },
  {
   "cell_type": "markdown",
   "metadata": {},
   "source": [
    "### Example 1.1) Banking system"
   ]
  },
  {
   "cell_type": "code",
   "execution_count": 1,
   "metadata": {},
   "outputs": [],
   "source": [
    "class BankAccount:\n",
    "\n",
    "    def __init__(self,balance):\n",
    "        self.__balance = balance\n",
    "\n",
    "    def check_balance(self):\n",
    "        return self.__balance\n",
    "    \n",
    "    def deposit(self,amount):\n",
    "        self.__balance=self.__balance+amount\n",
    "        return f\"Available Balance : {self.__balance}\"\n",
    "\n",
    "    def withdraw(self,amount):\n",
    "        self.__balance =self.__balance-amount\n",
    "        return f\"Available Balance : {self.__balance}\"\n",
    "    \n",
    "ba = BankAccount(1000)"
   ]
  },
  {
   "cell_type": "code",
   "execution_count": 2,
   "metadata": {},
   "outputs": [
    {
     "data": {
      "text/plain": [
       "1000"
      ]
     },
     "execution_count": 2,
     "metadata": {},
     "output_type": "execute_result"
    }
   ],
   "source": [
    "ba.check_balance()"
   ]
  },
  {
   "cell_type": "code",
   "execution_count": 3,
   "metadata": {},
   "outputs": [
    {
     "data": {
      "text/plain": [
       "'Available Balance : 1500'"
      ]
     },
     "execution_count": 3,
     "metadata": {},
     "output_type": "execute_result"
    }
   ],
   "source": [
    "ba.deposit(500)"
   ]
  },
  {
   "cell_type": "code",
   "execution_count": 4,
   "metadata": {},
   "outputs": [
    {
     "data": {
      "text/plain": [
       "'Available Balance : 800'"
      ]
     },
     "execution_count": 4,
     "metadata": {},
     "output_type": "execute_result"
    }
   ],
   "source": [
    "ba.withdraw(700)"
   ]
  },
  {
   "cell_type": "markdown",
   "metadata": {},
   "source": [
    "### Example 1.2) Implement Encapsulation for a Student Record\n",
    "👉 Define:\n",
    "\n",
    "A Student class with private attributes __name, __marks\n",
    "Provide getter (get_marks()) and setter (set_marks()) methods"
   ]
  },
  {
   "cell_type": "code",
   "execution_count": 5,
   "metadata": {},
   "outputs": [],
   "source": [
    "class Student:\n",
    "\n",
    "    def __init__(self,name,marks):\n",
    "        self.__name = name\n",
    "        self.__marks = marks\n",
    "\n",
    "    def get_marks(self):\n",
    "        return self.__marks\n",
    "    \n",
    "    def set_marks(self,marks):\n",
    "        self.__marks= marks\n",
    "        return f\"Current Marks : {self.__marks}\""
   ]
  },
  {
   "cell_type": "code",
   "execution_count": 6,
   "metadata": {},
   "outputs": [
    {
     "data": {
      "text/plain": [
       "67"
      ]
     },
     "execution_count": 6,
     "metadata": {},
     "output_type": "execute_result"
    }
   ],
   "source": [
    "st = Student(name=\"Chetan\",marks=67)\n",
    "st.get_marks()"
   ]
  },
  {
   "cell_type": "code",
   "execution_count": 7,
   "metadata": {},
   "outputs": [
    {
     "data": {
      "text/plain": [
       "'Current Marks : 90'"
      ]
     },
     "execution_count": 7,
     "metadata": {},
     "output_type": "execute_result"
    }
   ],
   "source": [
    "st.set_marks(marks=90)"
   ]
  },
  {
   "cell_type": "markdown",
   "metadata": {},
   "source": [
    "## 2.Abstraction"
   ]
  },
  {
   "cell_type": "markdown",
   "metadata": {},
   "source": [
    "(Hiding Implementation Details)\n",
    "Abstraction helps hide complexity using abstract classes."
   ]
  },
  {
   "cell_type": "markdown",
   "metadata": {},
   "source": [
    " Implement an Abstract Class\n",
    "👉 Define:\n",
    "\n",
    "An abstract class Shape with method area()\n",
    "Subclasses Rectangle and Circle that implement area()"
   ]
  },
  {
   "cell_type": "code",
   "execution_count": 33,
   "metadata": {},
   "outputs": [],
   "source": [
    "from abc import ABC,abstractmethod\n",
    "\n",
    "class Shape:        \n",
    "    \n",
    "    @abstractmethod\n",
    "    def area(self):\n",
    "        return NotImplementedError(\"Method is not implemented Yet\")"
   ]
  },
  {
   "cell_type": "code",
   "execution_count": 34,
   "metadata": {},
   "outputs": [],
   "source": [
    "class Rectangle(Shape):\n",
    "    \n",
    "    def __init__(self,length,height):\n",
    "        self.height = height\n",
    "        self.length = length\n",
    "        \n",
    "    #def area(self):\n",
    "    #    return self.length*self.height\n",
    "    \n",
    "class Circle(Shape):\n",
    "    \n",
    "    def __init__(self,radius):\n",
    "        self.radius = radius\n",
    "        \n",
    "    def area(self):\n",
    "        return 3.14*self.radius"
   ]
  },
  {
   "cell_type": "code",
   "execution_count": 35,
   "metadata": {},
   "outputs": [
    {
     "data": {
      "text/plain": [
       "NotImplementedError('Method is not implemented Yet')"
      ]
     },
     "execution_count": 35,
     "metadata": {},
     "output_type": "execute_result"
    }
   ],
   "source": [
    "re = Rectangle(5,8)\n",
    "re.area()"
   ]
  },
  {
   "cell_type": "code",
   "execution_count": 36,
   "metadata": {},
   "outputs": [
    {
     "data": {
      "text/plain": [
       "9.42"
      ]
     },
     "execution_count": 36,
     "metadata": {},
     "output_type": "execute_result"
    }
   ],
   "source": [
    "ca = Circle(radius=3)\n",
    "ca.area()"
   ]
  },
  {
   "cell_type": "markdown",
   "metadata": {},
   "source": [
    "## 3.Inheritance"
   ]
  },
  {
   "cell_type": "markdown",
   "metadata": {},
   "source": [
    "Inheritance allows a class (child) to derive from another class (parent)."
   ]
  },
  {
   "cell_type": "markdown",
   "metadata": {},
   "source": [
    "Employee Management System\n",
    "👉 Create:\n",
    "\n",
    "A Person class with name and age\n",
    "\n",
    "An Employee subclass that adds salary\n",
    "\n",
    "A Manager subclass with an extra attribute bonus\n"
   ]
  },
  {
   "cell_type": "code",
   "execution_count": 41,
   "metadata": {},
   "outputs": [],
   "source": [
    "class Person:\n",
    "    def __init__(self,name,age):\n",
    "        self.name = name\n",
    "        self.age = age\n",
    "        \n",
    "class Employee(Person):\n",
    "    def __init__(self,name,age,salary):\n",
    "        super().__init__(name=name,age=age)\n",
    "        self.__salary = salary\n",
    "        \n",
    "    def get_salary(self)->float:\n",
    "        return self.__salary\n",
    "    \n",
    "    def add_salary(self,salary:float)->float:\n",
    "        self.__salary += salary\n",
    "        return self.__salary\n",
    "\n",
    "class Manager(Employee):\n",
    "    def __init__(self,name,age,salary,bonus):\n",
    "        super().__init__(name=name,age=age,salary=salary)\n",
    "        self.__salary = salary\n",
    "        self.bonus = bonus\n",
    "        \n",
    "    def get_salary(self)->float:\n",
    "        return self.__salary\n",
    "    \n",
    "    def add_salary(self):\n",
    "        self.__salary += self.bonus\n",
    "        return self.__salary"
   ]
  },
  {
   "cell_type": "code",
   "execution_count": 42,
   "metadata": {},
   "outputs": [],
   "source": [
    "em = Employee(name='chetan',age=27,salary=50000)\n",
    "mn = Manager(name='francis',age=50,salary=100000,bonus=5000)"
   ]
  },
  {
   "cell_type": "code",
   "execution_count": 43,
   "metadata": {},
   "outputs": [
    {
     "data": {
      "text/plain": [
       "50000"
      ]
     },
     "execution_count": 43,
     "metadata": {},
     "output_type": "execute_result"
    }
   ],
   "source": [
    "em.get_salary()"
   ]
  },
  {
   "cell_type": "code",
   "execution_count": 47,
   "metadata": {},
   "outputs": [
    {
     "data": {
      "text/plain": [
       "110000"
      ]
     },
     "execution_count": 47,
     "metadata": {},
     "output_type": "execute_result"
    }
   ],
   "source": [
    "mn.get_salary()\n",
    "mn.add_salary()"
   ]
  },
  {
   "cell_type": "markdown",
   "metadata": {},
   "source": [
    "## 4.Polymorphism"
   ]
  },
  {
   "cell_type": "markdown",
   "metadata": {},
   "source": [
    "Method Overriding (Polymorphism)\n",
    "👉 Define:\n",
    "\n",
    "A Vehicle class with start() method\n",
    "A Car subclass that overrides start()"
   ]
  },
  {
   "cell_type": "code",
   "execution_count": 61,
   "metadata": {},
   "outputs": [],
   "source": [
    "\n",
    "class Vehicle:\n",
    "    def start(self):\n",
    "        return \"Vehicle Start\"\n",
    "    \n",
    "class Car(Vehicle):\n",
    "    \n",
    "    def __init__(self):\n",
    "        pass\n",
    "    \n",
    "    def start(self):\n",
    "        return \"Car Start\""
   ]
  },
  {
   "cell_type": "code",
   "execution_count": 62,
   "metadata": {},
   "outputs": [
    {
     "data": {
      "text/plain": [
       "'Vehicle Start'"
      ]
     },
     "execution_count": 62,
     "metadata": {},
     "output_type": "execute_result"
    }
   ],
   "source": [
    "v = Vehicle()\n",
    "v.start()"
   ]
  },
  {
   "cell_type": "code",
   "execution_count": 63,
   "metadata": {},
   "outputs": [
    {
     "data": {
      "text/plain": [
       "'Car Start'"
      ]
     },
     "execution_count": 63,
     "metadata": {},
     "output_type": "execute_result"
    }
   ],
   "source": [
    "c = Car()\n",
    "c.start()"
   ]
  }
 ],
 "metadata": {
  "kernelspec": {
   "display_name": "env",
   "language": "python",
   "name": "python3"
  },
  "language_info": {
   "codemirror_mode": {
    "name": "ipython",
    "version": 3
   },
   "file_extension": ".py",
   "mimetype": "text/x-python",
   "name": "python",
   "nbconvert_exporter": "python",
   "pygments_lexer": "ipython3",
   "version": "3.12.3"
  }
 },
 "nbformat": 4,
 "nbformat_minor": 2
}
